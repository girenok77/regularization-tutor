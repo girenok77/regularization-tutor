{
 "cells": [
  {
   "cell_type": "markdown",
   "metadata": {
    "colab_type": "text",
    "id": "MrqydEHK0LLu"
   },
   "source": [
    "## Initialization matters!\n",
    "\n",
    "In this notebook I will show that the initialization matters: you can't just initialize each weight of a sufficiently deep neural network to a random number from a normal distribution. The neural network can not be trained in this case efficiently due to a gradient vanishing problem. The better initialization tactic is called an 'xavier initialization'."
   ]
  },
  {
   "cell_type": "code",
   "execution_count": 1,
   "metadata": {
    "colab": {
     "autoexec": {
      "startup": false,
      "wait_interval": 0
     }
    },
    "colab_type": "code",
    "collapsed": true,
    "id": "YADTTD804MaO"
   },
   "outputs": [],
   "source": [
    "import numpy as np\n",
    "import matplotlib.pyplot as plt\n",
    "from sklearn.datasets import make_moons"
   ]
  },
  {
   "cell_type": "markdown",
   "metadata": {
    "colab_type": "text",
    "id": "chg7FVDE5IVC"
   },
   "source": [
    "Define classes and functions."
   ]
  },
  {
   "cell_type": "code",
   "execution_count": 2,
   "metadata": {
    "colab": {
     "autoexec": {
      "startup": false,
      "wait_interval": 0
     }
    },
    "colab_type": "code",
    "collapsed": true,
    "id": "AawXDjxNAz88"
   },
   "outputs": [],
   "source": [
    "class ANN:\n",
    "  '''Artificial Neural Network class.'''\n",
    "  \n",
    "  def __init__(self, dims, init_type, nonlin_type):\n",
    "    '''\n",
    "    dims -- number of nodes of each layer.\n",
    "    init_type:\n",
    "      'normal' -- simple normal distribution initialization.\n",
    "      'xavier' -- xavier initialization.\n",
    "    \n",
    "    nonlin_type: 'tanh' or 'relu' -- nonlinear function for each layer except\n",
    "                                     last (it's sigmoid).\n",
    "    '''\n",
    "    np.random.seed(2)\n",
    "    self.params = dict()\n",
    "    self.L = len(dims)\n",
    "    self.m = len(Y)\n",
    "    self.nonlin_type = nonlin_type\n",
    "    for i in range(1, self.L):\n",
    "      if init_type == 'normal':\n",
    "        self.params[f'W{i}'] = np.random.randn(dims[i], dims[i-1]) * 0.1\n",
    "      elif init_type == 'xavier':\n",
    "        self.params[f'W{i}'] = np.random.randn(dims[i], dims[i-1]) / np.sqrt(dims[i-1])\n",
    "      self.params[f'b{i}'] = np.zeros((dims[i],1))\n",
    "    \n",
    "  def forward(self, X, Y=None):\n",
    "    '''\n",
    "    Forward propogation.\n",
    "    '''\n",
    "    self.X = X\n",
    "    self.Y = Y\n",
    "    self.cache = dict()\n",
    "    self.cache['A0'] = X\n",
    "    for i in range(1, self.L):\n",
    "      self.cache[f'Z{i}'] = np.dot(self.params[f'W{i}'], self.cache[f'A{i-1}']) + self.params[f'b{i}']\n",
    "      if i == self.L-1:\n",
    "        self.cache[f'A{i}'] = 1 / (1 + np.exp(-self.cache[f'Z{i}']))\n",
    "      else:\n",
    "        if self.nonlin_type == 'tanh':\n",
    "          self.cache[f'A{i}'] = np.tanh(self.cache[f'Z{i}'])\n",
    "        elif self.nonlin_type == 'relu':\n",
    "          self.cache[f'A{i}'] = np.maximum(self.cache[f'Z{i}'], 0)\n",
    "    if Y is not None:\n",
    "      self.J = -1/self.m * np.sum(np.log(self.cache[f'A{self.L-1}']) * Y + np.log(1 - self.cache[f'A{self.L-1}']) * (1 - Y))\n",
    "    \n",
    "  def backward(self):\n",
    "    '''\n",
    "    Backward propogation.\n",
    "    '''\n",
    "    for i in reversed(range(1, self.L)):\n",
    "      if i == self.L-1:\n",
    "        self.cache[f'dZ{i}'] = self.cache[f'A{i}'] - self.Y\n",
    "      else:\n",
    "        self.cache[f'dA{i}'] = np.dot(self.params[f'W{i+1}'].T, self.cache[f'dZ{i+1}'])\n",
    "        if self.nonlin_type == 'tanh':\n",
    "          self.cache[f'dZ{i}'] = self.cache[f'dA{i}'] * (1 - np.tanh(self.cache[f'A{i}'])**2)\n",
    "        elif self.nonlin_type == 'relu':\n",
    "          self.cache[f'dZ{i}'] = np.multiply(self.cache[f'dA{i}'], np.int64(self.cache[f'A{i}'] > 0))\n",
    "      self.cache[f'dW{i}'] = 1/self.m * np.dot(self.cache[f'dZ{i}'], self.cache[f'A{i-1}'].T)\n",
    "      self.cache[f'db{i}'] = 1/self.m * np.sum(self.cache[f'dZ{i}'], axis=1, keepdims=True)\n",
    "  \n",
    "  def predict(self, X):\n",
    "    '''\n",
    "    Make predictions.\n",
    "    '''\n",
    "    self.forward(X)\n",
    "    return self.cache[f'A{self.L-1}'] > 0.5\n",
    "  \n",
    "  def update(self, lambd):\n",
    "    '''\n",
    "    Update weigths and biases.\n",
    "    '''\n",
    "    for key,_ in self.params.items():\n",
    "      self.params[key] -= self.cache[f'd{key}'] * lambd\n",
    "\n",
    "      \n",
    "######## Helper functions ########\n",
    "\n",
    "def plot(X, Y):\n",
    "  plt.ylabel('x2')\n",
    "  plt.xlabel('x1')\n",
    "  plt.scatter(X[0, :], X[1, :], c=Y, s=40, cmap=plt.cm.Spectral)\n",
    "  plt.show()\n",
    "  \n",
    "def plot_decision_boundary(model, X, Y):\n",
    "  # Set min and max values and give it some padding\n",
    "  x_min, x_max = X[0, :].min() - 1, X[0, :].max() + 1\n",
    "  y_min, y_max = X[1, :].min() - 1, X[1, :].max() + 1\n",
    "  h = 0.01\n",
    "  # Generate a grid of points with distance h between them\n",
    "  xx, yy = np.meshgrid(np.arange(x_min, x_max, h), np.arange(y_min, y_max, h))\n",
    "  # Predict the function value for the whole grid\n",
    "  Z = model.predict(np.c_[xx.ravel(), yy.ravel()].T)\n",
    "  Z = Z.reshape(xx.shape)\n",
    "  # Plot the contour and training examples\n",
    "  plt.contourf(xx, yy, Z, cmap=plt.cm.Spectral)\n",
    "  plt.scatter(X[0, :], X[1, :], c=Y, cmap=plt.cm.Spectral)\n",
    "  plt.show()"
   ]
  },
  {
   "cell_type": "markdown",
   "metadata": {
    "colab_type": "text",
    "id": "90oCbbZJ5UTY"
   },
   "source": [
    "Make data."
   ]
  },
  {
   "cell_type": "code",
   "execution_count": 3,
   "metadata": {
    "colab": {
     "autoexec": {
      "startup": false,
      "wait_interval": 0
     },
     "base_uri": "https://localhost:8080/",
     "height": 361
    },
    "colab_type": "code",
    "executionInfo": {
     "elapsed": 628,
     "status": "ok",
     "timestamp": 1525352728452,
     "user": {
      "displayName": "Sergei Bondarenko",
      "photoUrl": "//lh3.googleusercontent.com/-ExxVpX6rdcU/AAAAAAAAAAI/AAAAAAAABpk/1NNTdxr4JYg/s50-c-k-no/photo.jpg",
      "userId": "104649299277852833103"
     },
     "user_tz": -180
    },
    "id": "CKFaMhCYPjnK",
    "outputId": "407b8300-d860-41d1-9f94-b4f96e4b1afa"
   },
   "outputs": [
    {
     "data": {
      "image/png": "[encoded data removed]",
      "text/plain": [
       "<matplotlib.figure.Figure at 0x7faf2374ef28>"
      ]
     },
     "metadata": {},
     "output_type": "display_data"
    }
   ],
   "source": [
    "X, Y = make_moons(n_samples=100, noise=0.2, random_state=1)\n",
    "X = X.T\n",
    "plot(X, Y)"
   ]
  },
  {
   "cell_type": "markdown",
   "metadata": {
    "colab_type": "text",
    "id": "_5H6-Wfz5i6y"
   },
   "source": [
    "Create a deep neural network to better illustrate the point. First initialize it's weights with a simple normal distribution."
   ]
  },
  {
   "cell_type": "code",
   "execution_count": 4,
   "metadata": {
    "colab": {
     "autoexec": {
      "startup": false,
      "wait_interval": 0
     }
    },
    "colab_type": "code",
    "collapsed": true,
    "id": "RSb01o-5SSHE"
   },
   "outputs": [],
   "source": [
    "dims = [2, 16, 8, 8, 8, 8, 8, 8, 4, 4, 4, 2, 1]\n",
    "nn0 = ANN(dims, 'normal', 'tanh')"
   ]
  },
  {
   "cell_type": "markdown",
   "metadata": {
    "colab_type": "text",
    "id": "97N9rChd6vjI"
   },
   "source": [
    "Let's train it."
   ]
  },
  {
   "cell_type": "code",
   "execution_count": 5,
   "metadata": {
    "colab": {
     "autoexec": {
      "startup": false,
      "wait_interval": 0
     },
     "base_uri": "https://localhost:8080/",
     "height": 208
    },
    "colab_type": "code",
    "executionInfo": {
     "elapsed": 4638,
     "status": "ok",
     "timestamp": 1525352739354,
     "user": {
      "displayName": "Sergei Bondarenko",
      "photoUrl": "//lh3.googleusercontent.com/-ExxVpX6rdcU/AAAAAAAAAAI/AAAAAAAABpk/1NNTdxr4JYg/s50-c-k-no/photo.jpg",
      "userId": "104649299277852833103"
     },
     "user_tz": -180
    },
    "id": "cj5PCABMStsG",
    "outputId": "186db348-dbfe-4286-ed9a-960b7c91666d"
   },
   "outputs": [
    {
     "name": "stdout",
     "output_type": "stream",
     "text": [
      "Epoch 0: 0.693147187559383\n",
      "Epoch 500: 0.6931471875592493\n",
      "Epoch 1000: 0.6931471875591152\n",
      "Epoch 1500: 0.6931471875589813\n",
      "Epoch 2000: 0.6931471875588473\n",
      "Epoch 2500: 0.6931471875587131\n",
      "Epoch 3000: 0.6931471875585793\n",
      "Epoch 3500: 0.6931471875584455\n",
      "Epoch 4000: 0.6931471875583114\n",
      "Epoch 4500: 0.6931471875581774\n"
     ]
    }
   ],
   "source": [
    "for epoch in range(4500 + 1):\n",
    "  nn0.forward(X, Y)\n",
    "  nn0.backward()\n",
    "  nn0.update(0.005)\n",
    "  if epoch % 500 == 0:\n",
    "    print(f\"Epoch {epoch}: {nn0.J}\")"
   ]
  },
  {
   "cell_type": "markdown",
   "metadata": {
    "colab_type": "text",
    "id": "u1j9dJbh62t-"
   },
   "source": [
    "As you can see, it's stucked. And a decision boundary is really sucks."
   ]
  },
  {
   "cell_type": "code",
   "execution_count": 6,
   "metadata": {
    "colab": {
     "autoexec": {
      "startup": false,
      "wait_interval": 0
     },
     "base_uri": "https://localhost:8080/",
     "height": 347
    },
    "colab_type": "code",
    "executionInfo": {
     "elapsed": 1622,
     "status": "ok",
     "timestamp": 1525352743998,
     "user": {
      "displayName": "Sergei Bondarenko",
      "photoUrl": "//lh3.googleusercontent.com/-ExxVpX6rdcU/AAAAAAAAAAI/AAAAAAAABpk/1NNTdxr4JYg/s50-c-k-no/photo.jpg",
      "userId": "104649299277852833103"
     },
     "user_tz": -180
    },
    "id": "CmF4SxeZ61tY",
    "outputId": "7b84c101-94f0-4cb3-f032-b392cf95ccab"
   },
   "outputs": [
    {
     "data": {
      "image/png": "[encoded data removed]",
      "text/plain": [
       "<matplotlib.figure.Figure at 0x7faf262fc128>"
      ]
     },
     "metadata": {},
     "output_type": "display_data"
    }
   ],
   "source": [
    "plot_decision_boundary(nn0, X, Y)"
   ]
  },
  {
   "cell_type": "markdown",
   "metadata": {
    "colab_type": "text",
    "id": "lifc2RJY9WsW"
   },
   "source": [
    "Now let's do the same but with a xavier initialization."
   ]
  },
  {
   "cell_type": "code",
   "execution_count": 7,
   "metadata": {
    "colab": {
     "autoexec": {
      "startup": false,
      "wait_interval": 0
     },
     "base_uri": "https://localhost:8080/",
     "height": 208
    },
    "colab_type": "code",
    "executionInfo": {
     "elapsed": 5734,
     "status": "ok",
     "timestamp": 1525352751494,
     "user": {
      "displayName": "Sergei Bondarenko",
      "photoUrl": "//lh3.googleusercontent.com/-ExxVpX6rdcU/AAAAAAAAAAI/AAAAAAAABpk/1NNTdxr4JYg/s50-c-k-no/photo.jpg",
      "userId": "104649299277852833103"
     },
     "user_tz": -180
    },
    "id": "Ub8Gbp889V4M",
    "outputId": "af2adf8e-77cb-48d6-f585-b00891b5bdd0"
   },
   "outputs": [
    {
     "name": "stdout",
     "output_type": "stream",
     "text": [
      "Epoch 0: 0.7677476062189245\n",
      "Epoch 500: 0.5420571903328136\n",
      "Epoch 1000: 0.43312618830366695\n",
      "Epoch 1500: 0.3877959762528388\n",
      "Epoch 2000: 0.337558116783168\n",
      "Epoch 2500: 0.3087632021664846\n",
      "Epoch 3000: 0.17554413620297055\n",
      "Epoch 3500: 0.16046742181610157\n",
      "Epoch 4000: 0.12065645742515368\n",
      "Epoch 4500: 0.08941574906119244\n"
     ]
    }
   ],
   "source": [
    "dims = [2, 16, 8, 8, 8, 8, 8, 8, 4, 4, 4, 2, 1]\n",
    "nn1 = ANN(dims, 'xavier', 'tanh')\n",
    "for epoch in range(4500 + 1):\n",
    "  nn1.forward(X, Y)\n",
    "  if epoch % 500 == 0:\n",
    "    print(f\"Epoch {epoch}: {nn1.J}\")\n",
    "  nn1.backward()\n",
    "  nn1.update(0.005)"
   ]
  },
  {
   "cell_type": "markdown",
   "metadata": {
    "colab_type": "text",
    "id": "4Pp2k-rz91hK"
   },
   "source": [
    "As you can see now the same model can learn! The difference is only in initialization values."
   ]
  },
  {
   "cell_type": "code",
   "execution_count": 8,
   "metadata": {
    "colab": {
     "autoexec": {
      "startup": false,
      "wait_interval": 0
     },
     "base_uri": "https://localhost:8080/",
     "height": 347
    },
    "colab_type": "code",
    "executionInfo": {
     "elapsed": 1874,
     "status": "ok",
     "timestamp": 1525352755910,
     "user": {
      "displayName": "Sergei Bondarenko",
      "photoUrl": "//lh3.googleusercontent.com/-ExxVpX6rdcU/AAAAAAAAAAI/AAAAAAAABpk/1NNTdxr4JYg/s50-c-k-no/photo.jpg",
      "userId": "104649299277852833103"
     },
     "user_tz": -180
    },
    "id": "Jnpohjhs9TZU",
    "outputId": "8bc2a465-f067-430d-e6c7-364ba9578a35"
   },
   "outputs": [
    {
     "data": {
      "image/png": "[encoded data removed]",
      "text/plain": [
       "<matplotlib.figure.Figure at 0x7faf1adfcdd8>"
      ]
     },
     "metadata": {},
     "output_type": "display_data"
    }
   ],
   "source": [
    "plot_decision_boundary(nn1, X, Y)"
   ]
  },
  {
   "cell_type": "markdown",
   "metadata": {
    "colab_type": "text",
    "id": "DZz-ajeQHqkA"
   },
   "source": [
    "Now let's do the same but on model with relu activation function (I only increased the learning rate lambda)."
   ]
  },
  {
   "cell_type": "code",
   "execution_count": 9,
   "metadata": {
    "colab": {
     "autoexec": {
      "startup": false,
      "wait_interval": 0
     },
     "base_uri": "https://localhost:8080/",
     "height": 208
    },
    "colab_type": "code",
    "executionInfo": {
     "elapsed": 3796,
     "status": "ok",
     "timestamp": 1525353205324,
     "user": {
      "displayName": "Sergei Bondarenko",
      "photoUrl": "//lh3.googleusercontent.com/-ExxVpX6rdcU/AAAAAAAAAAI/AAAAAAAABpk/1NNTdxr4JYg/s50-c-k-no/photo.jpg",
      "userId": "104649299277852833103"
     },
     "user_tz": -180
    },
    "id": "cSBg6Gy9HDQC",
    "outputId": "f6b54fca-c861-4c85-bb37-12c04661c3a8"
   },
   "outputs": [
    {
     "name": "stdout",
     "output_type": "stream",
     "text": [
      "Epoch 0: 0.6931471805483626\n",
      "Epoch 500: 0.6931471805599455\n",
      "Epoch 1000: 0.6931471805599453\n",
      "Epoch 1500: 0.6931471805599453\n",
      "Epoch 2000: 0.6931471805599453\n",
      "Epoch 2500: 0.6931471805599453\n",
      "Epoch 3000: 0.6931471805599453\n",
      "Epoch 3500: 0.6931471805599453\n",
      "Epoch 4000: 0.6931471805599453\n",
      "Epoch 4500: 0.6931471805599453\n"
     ]
    }
   ],
   "source": [
    "dims = [2, 16, 8, 8, 8, 8, 8, 8, 4, 4, 4, 2, 1]\n",
    "nn2 = ANN(dims, 'normal', 'relu')\n",
    "for epoch in range(4500 + 1):\n",
    "  nn2.forward(X, Y)\n",
    "  nn2.backward()\n",
    "  nn2.update(0.05)\n",
    "  if epoch % 500 == 0:\n",
    "    print(f\"Epoch {epoch}: {nn2.J}\")"
   ]
  },
  {
   "cell_type": "markdown",
   "metadata": {
    "colab_type": "text",
    "id": "NfjdDDz7H-7O"
   },
   "source": [
    "Not training. What about xavier?"
   ]
  },
  {
   "cell_type": "code",
   "execution_count": 10,
   "metadata": {
    "colab": {
     "autoexec": {
      "startup": false,
      "wait_interval": 0
     },
     "base_uri": "https://localhost:8080/",
     "height": 208
    },
    "colab_type": "code",
    "executionInfo": {
     "elapsed": 3908,
     "status": "ok",
     "timestamp": 1525353214514,
     "user": {
      "displayName": "Sergei Bondarenko",
      "photoUrl": "//lh3.googleusercontent.com/-ExxVpX6rdcU/AAAAAAAAAAI/AAAAAAAABpk/1NNTdxr4JYg/s50-c-k-no/photo.jpg",
      "userId": "104649299277852833103"
     },
     "user_tz": -180
    },
    "id": "BI8KZtrEIA1I",
    "outputId": "d5840046-4a00-40a3-8c2d-7be964ecb6bf"
   },
   "outputs": [
    {
     "name": "stdout",
     "output_type": "stream",
     "text": [
      "Epoch 0: 0.6927945090827544\n",
      "Epoch 500: 0.6891751954733587\n",
      "Epoch 1000: 0.24756300168822887\n",
      "Epoch 1500: 0.0935471534229221\n",
      "Epoch 2000: 0.08689219446150308\n",
      "Epoch 2500: 0.08548099364770119\n",
      "Epoch 3000: 0.08502651976591587\n",
      "Epoch 3500: 0.08487103022018558\n",
      "Epoch 4000: 0.0848235542914961\n",
      "Epoch 4500: 0.08479357711626274\n"
     ]
    }
   ],
   "source": [
    "dims = [2, 16, 8, 8, 8, 8, 8, 8, 4, 4, 4, 2, 1]\n",
    "nn3 = ANN(dims, 'xavier', 'relu')\n",
    "for epoch in range(4500 + 1):\n",
    "  nn3.forward(X, Y)\n",
    "  nn3.backward()\n",
    "  nn3.update(0.05)\n",
    "  if epoch % 500 == 0:\n",
    "    print(f\"Epoch {epoch}: {nn3.J}\")"
   ]
  },
  {
   "cell_type": "markdown",
   "metadata": {
    "colab_type": "text",
    "id": "H6oenVSOI-Og"
   },
   "source": [
    "That's now working. Actually there is a better initialization choice for a relu, it's called \"he initialization\", but xavier works well too."
   ]
  },
  {
   "cell_type": "markdown",
   "metadata": {
    "colab_type": "text",
    "id": "3hgT1fnvRsfY"
   },
   "source": [
    "### Auxiliary code"
   ]
  },
  {
   "cell_type": "code",
   "execution_count": null,
   "metadata": {
    "collapsed": true
   },
   "outputs": [],
   "source": [
    "# Check gradients.\n",
    "\n",
    "dims = [2, 4, 2, 1]\n",
    "nn0 = ANN(dims, 'normal', 'relu')\n",
    "nn0.forward(X, Y)\n",
    "nn0.backward()\n",
    "print(\"======== Computed ========\")\n",
    "delta = 10**(-9)\n",
    "for key,_ in nn0.params.items():\n",
    "  arr = np.ndarray(nn0.params[key].shape)\n",
    "  for i in range(len(nn0.params[key])):\n",
    "    for j in range(len(nn0.params[key][i])):\n",
    "      nn0_plus = ANN(dims, 'normal', 'relu')\n",
    "      nn0_plus.params[key][i,j] = nn0.params[key][i,j] + delta\n",
    "      nn0_plus.forward(X, Y)\n",
    "      nn0_minus = ANN(dims, 'normal', 'relu')\n",
    "      nn0_minus.params[key][i,j] = nn0.params[key][i,j] - delta\n",
    "      nn0_minus.forward(X, Y)\n",
    "      arr[i,j] = (nn0_plus.J - nn0_minus.J) / (2 * delta)\n",
    "  print(f'd{key}')\n",
    "  print(arr)\n",
    "  print()\n",
    "print()\n",
    "print(\"======== Analytical ========\")\n",
    "for key,_ in nn0.params.items():\n",
    "  print(f'd{key}')\n",
    "  print(nn0.cache[f'd{key}'])\n",
    "  print()"
   ]
  }
 ],
 "metadata": {
  "colab": {
   "collapsed_sections": [
    "3hgT1fnvRsfY"
   ],
   "default_view": {},
   "name": "initialization.ipynb",
   "provenance": [],
   "version": "0.3.2",
   "views": {}
  },
  "kernelspec": {
   "display_name": "Python 3",
   "language": "python",
   "name": "python3"
  },
  "language_info": {
   "codemirror_mode": {
    "name": "ipython",
    "version": 3
   },
   "file_extension": ".py",
   "mimetype": "text/x-python",
   "name": "python",
   "nbconvert_exporter": "python",
   "pygments_lexer": "ipython3",
   "version": "3.6.3"
  }
 },
 "nbformat": 4,
 "nbformat_minor": 1
}
