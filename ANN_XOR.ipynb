{
 "cells": [
  {
   "cell_type": "markdown",
   "metadata": {
    "colab_type": "text",
    "id": "p97xQtqEvgFS"
   },
   "source": [
    "In this notebook we are going to create an artificial neural network with one hidden layer, and train it to perform a XOR function.\n",
    "\n",
    "![alt text](https://grez911.github.io/files/ANN_XOR.png)"
   ]
  },
  {
   "cell_type": "code",
   "execution_count": 1,
   "metadata": {
    "colab": {
     "autoexec": {
      "startup": false,
      "wait_interval": 0
     }
    },
    "colab_type": "code",
    "id": "YmZhjTlE5obA"
   },
   "outputs": [],
   "source": [
    "import numpy as np"
   ]
  },
  {
   "cell_type": "code",
   "execution_count": 2,
   "metadata": {
    "colab": {
     "autoexec": {
      "startup": false,
      "wait_interval": 0
     }
    },
    "colab_type": "code",
    "id": "32EMLPw31jxm"
   },
   "outputs": [],
   "source": [
    "# This is helper functions.\n",
    "\n",
    "def tanh(Z):\n",
    "  '''Activation function in the hidden layer.'''\n",
    "  return np.tanh(Z)\n",
    "\n",
    "def sigmoid(Z):\n",
    "  '''Activation function in the output layer.'''\n",
    "  return 1 / (1 + np.exp(-Z))\n",
    "\n",
    "def cost(A, Y):\n",
    "  '''A mean squared error based cost.'''\n",
    "  return 1/2 * np.mean((A - Y)**2)\n",
    "\n",
    "def linear(W, A, b):\n",
    "  '''One linear fully connected layer.'''\n",
    "  return np.dot(W, A) + b"
   ]
  },
  {
   "cell_type": "markdown",
   "metadata": {
    "colab_type": "text",
    "id": "qJTJHQAh6zj6"
   },
   "source": [
    "## Initialization (unrolled)\n",
    "---"
   ]
  },
  {
   "cell_type": "code",
   "execution_count": 3,
   "metadata": {
    "colab": {
     "autoexec": {
      "startup": false,
      "wait_interval": 0
     },
     "base_uri": "https://localhost:8080/",
     "height": 503
    },
    "colab_type": "code",
    "executionInfo": {
     "elapsed": 520,
     "status": "ok",
     "timestamp": 1524504341806,
     "user": {
      "displayName": "Sergei Bondarenko",
      "photoUrl": "//lh3.googleusercontent.com/-ExxVpX6rdcU/AAAAAAAAAAI/AAAAAAAABpk/1NNTdxr4JYg/s50-c-k-no/photo.jpg",
      "userId": "104649299277852833103"
     },
     "user_tz": -180
    },
    "id": "TEd2P_xl5y2M",
    "outputId": "51539315-4f93-41ed-f5c7-376d30905725"
   },
   "outputs": [
    {
     "name": "stdout",
     "output_type": "stream",
     "text": [
      "A0 is:\n",
      "[[0 1 0 1]\n",
      " [1 0 0 1]]\n",
      "Y is: [1 1 0 0] \n",
      "\n",
      "n=2 m=4\n",
      "n_h=2\n",
      "n_o=1 \n",
      "\n",
      "W0 is:\n",
      "[[-0.04167578 -0.00562668]\n",
      " [-0.21361961  0.16402708]]\n",
      "b0 is:\n",
      "[[0.1]\n",
      " [0.1]] \n",
      "\n",
      "W1 is: [[-0.17934356 -0.08417474]]\n",
      "b1 is: [[0.1]] \n",
      "\n",
      "Z1 is:\n",
      "[[0. 0. 0. 0.]\n",
      " [0. 0. 0. 0.]]\n",
      "A1 is:\n",
      "[[0. 0. 0. 0.]\n",
      " [0. 0. 0. 0.]] \n",
      "\n",
      "Z2 is: [[0. 0. 0. 0.]]\n",
      "A2 is: [[0. 0. 0. 0.]]\n"
     ]
    }
   ],
   "source": [
    "np.random.seed(2) # Set a seed so that the results are consistent.\n",
    "\n",
    "A0 = np.array([[0, 1, 0, 1], [1, 0, 0, 1]])  # Inputs.\n",
    "print(\"A0 is:\")\n",
    "print(A0)\n",
    "\n",
    "Y = np.array([1, 1, 0, 0])  # Outputs. This is a XOR function.\n",
    "print(\"Y is:\", Y, '\\n')\n",
    "\n",
    "n = len(A0)     # Number of features.\n",
    "m = len(Y)  # Number of training exmaples.\n",
    "print(f\"n={n}\", f\"m={m}\")\n",
    "\n",
    "n_h = 2  # Number of hidden perceptrons.\n",
    "print(f\"n_h={n_h}\")\n",
    "\n",
    "n_o = 1  # Number of output perceptrons.\n",
    "print(f\"n_o={n_o}\", '\\n')\n",
    "\n",
    "W0 = np.random.randn(n_h, n) * 0.1   # Weights between input and hidden layers.\n",
    "print(\"W0 is:\")\n",
    "print(W0)\n",
    "\n",
    "b0 = np.full((n_h,1), 0.1)    # Biases between input and hidden layer.\n",
    "print(\"b0 is:\")\n",
    "print(b0, '\\n')\n",
    "\n",
    "W1 = np.random.randn(n_o, n_h) * 0.1 # Weights between hidden and output layers.\n",
    "print(\"W1 is:\", W1)\n",
    "\n",
    "b1 = np.full((n_o,1), 0.1)     # Biases between hidden and output layers.\n",
    "print(\"b1 is:\", b1, '\\n')\n",
    "\n",
    "Z1 = np.zeros((n_h,m))\n",
    "A1 = np.zeros((n_h,m))\n",
    "print(\"Z1 is:\")\n",
    "print(Z1)\n",
    "print(\"A1 is:\")\n",
    "print(A1, '\\n')\n",
    "\n",
    "Z2 = np.zeros((n_o,m))\n",
    "A2 = np.zeros((n_o,m))\n",
    "print(\"Z2 is:\", Z2)\n",
    "print(\"A2 is:\", A2)"
   ]
  },
  {
   "cell_type": "markdown",
   "metadata": {
    "colab_type": "text",
    "id": "tKxkmygi6_5S"
   },
   "source": [
    "## Forward pass (unrolled)\n",
    "---"
   ]
  },
  {
   "cell_type": "code",
   "execution_count": 4,
   "metadata": {
    "colab": {
     "autoexec": {
      "startup": false,
      "wait_interval": 0
     },
     "base_uri": "https://localhost:8080/",
     "height": 52
    },
    "colab_type": "code",
    "executionInfo": {
     "elapsed": 510,
     "status": "ok",
     "timestamp": 1524504343064,
     "user": {
      "displayName": "Sergei Bondarenko",
      "photoUrl": "//lh3.googleusercontent.com/-ExxVpX6rdcU/AAAAAAAAAAI/AAAAAAAABpk/1NNTdxr4JYg/s50-c-k-no/photo.jpg",
      "userId": "104649299277852833103"
     },
     "user_tz": -180
    },
    "id": "7toVnpGz-z9M",
    "outputId": "8e7a27b4-a38b-4af9-ed5d-386bc81cedc6"
   },
   "outputs": [
    {
     "name": "stdout",
     "output_type": "stream",
     "text": [
      "0.09437331727736706\n",
      "0.26402708084049886\n"
     ]
    }
   ],
   "source": [
    "# Z1 for two perceptrons on a first example:\n",
    "Z1[0,0] = W0[0,0] * A0[0,0] + W0[0,1] * A0[1,0] + b0[0]\n",
    "Z1[1,0] = W0[1,0] * A0[0,0] + W0[1,1] * A0[1,0] + b0[1]\n",
    "print(Z1[0,0])\n",
    "print(Z1[1,0])"
   ]
  },
  {
   "cell_type": "code",
   "execution_count": 5,
   "metadata": {
    "colab": {
     "autoexec": {
      "startup": false,
      "wait_interval": 0
     },
     "base_uri": "https://localhost:8080/",
     "height": 69
    },
    "colab_type": "code",
    "executionInfo": {
     "elapsed": 542,
     "status": "ok",
     "timestamp": 1524504343720,
     "user": {
      "displayName": "Sergei Bondarenko",
      "photoUrl": "//lh3.googleusercontent.com/-ExxVpX6rdcU/AAAAAAAAAAI/AAAAAAAABpk/1NNTdxr4JYg/s50-c-k-no/photo.jpg",
      "userId": "104649299277852833103"
     },
     "user_tz": -180
    },
    "id": "tHeu5peLUb20",
    "outputId": "6b6382ce-d2a0-4d7d-8c22-eddb26bc09ce"
   },
   "outputs": [
    {
     "name": "stdout",
     "output_type": "stream",
     "text": [
      "Z1 is:\n",
      "[[ 0.09437332  0.05832422  0.1         0.05269753]\n",
      " [ 0.26402708 -0.11361961  0.1         0.05040747]]\n"
     ]
    }
   ],
   "source": [
    "# Z1 for two perceptrons on a second example:\n",
    "Z1[0,1] = W0[0,0] * A0[0,1] + W0[0,1] * A0[1,1] + b0[0]\n",
    "Z1[1,1] = W0[1,0] * A0[0,1] + W0[1,1] * A0[1,1] + b0[1]\n",
    "\n",
    "# Z1 for two perceptrons on a third example:\n",
    "Z1[0,2] = W0[0,0] * A0[0,2] + W0[0,1] * A0[1,2] + b0[0]\n",
    "Z1[1,2] = W0[1,0] * A0[0,2] + W0[1,1] * A0[1,2] + b0[1]\n",
    "\n",
    "# Z1 for two perceptrons on a forth example:\n",
    "Z1[0,3] = W0[0,0] * A0[0,3] + W0[0,1] * A0[1,3] + b0[0]\n",
    "Z1[1,3] = W0[1,0] * A0[0,3] + W0[1,1] * A0[1,3] + b0[1]\n",
    "\n",
    "print(\"Z1 is:\")\n",
    "print(Z1)"
   ]
  },
  {
   "cell_type": "code",
   "execution_count": 6,
   "metadata": {
    "colab": {
     "autoexec": {
      "startup": false,
      "wait_interval": 0
     },
     "base_uri": "https://localhost:8080/",
     "height": 52
    },
    "colab_type": "code",
    "executionInfo": {
     "elapsed": 552,
     "status": "ok",
     "timestamp": 1524504344438,
     "user": {
      "displayName": "Sergei Bondarenko",
      "photoUrl": "//lh3.googleusercontent.com/-ExxVpX6rdcU/AAAAAAAAAAI/AAAAAAAABpk/1NNTdxr4JYg/s50-c-k-no/photo.jpg",
      "userId": "104649299277852833103"
     },
     "user_tz": -180
    },
    "id": "B5tl1GOOPd1c",
    "outputId": "875e3ddc-1cfb-4a68-f588-c023b5d776a3"
   },
   "outputs": [
    {
     "name": "stdout",
     "output_type": "stream",
     "text": [
      "[[ 0.09437332  0.05832422  0.1         0.05269753]\n",
      " [ 0.26402708 -0.11361961  0.1         0.05040747]]\n"
     ]
    }
   ],
   "source": [
    "# This also can be done via matrix multiplication:\n",
    "print(np.dot(W0, A0) + b0)"
   ]
  },
  {
   "cell_type": "code",
   "execution_count": 7,
   "metadata": {
    "colab": {
     "autoexec": {
      "startup": false,
      "wait_interval": 0
     },
     "base_uri": "https://localhost:8080/",
     "height": 69
    },
    "colab_type": "code",
    "executionInfo": {
     "elapsed": 558,
     "status": "ok",
     "timestamp": 1524504345112,
     "user": {
      "displayName": "Sergei Bondarenko",
      "photoUrl": "//lh3.googleusercontent.com/-ExxVpX6rdcU/AAAAAAAAAAI/AAAAAAAABpk/1NNTdxr4JYg/s50-c-k-no/photo.jpg",
      "userId": "104649299277852833103"
     },
     "user_tz": -180
    },
    "id": "-UPB91NLQ4JQ",
    "outputId": "8a0e8f27-ccd7-4af1-83e4-0bb826b74109"
   },
   "outputs": [
    {
     "name": "stdout",
     "output_type": "stream",
     "text": [
      "A1 is:\n",
      "[[ 0.09409414  0.05825817  0.09966799  0.05264881]\n",
      " [ 0.25805832 -0.1131332   0.09966799  0.05036482]]\n"
     ]
    }
   ],
   "source": [
    "# In the first layer activation function is tanh.\n",
    "A1 = np.tanh(Z1)\n",
    "print(\"A1 is:\")\n",
    "print(A1)"
   ]
  },
  {
   "cell_type": "code",
   "execution_count": 8,
   "metadata": {
    "colab": {
     "autoexec": {
      "startup": false,
      "wait_interval": 0
     },
     "base_uri": "https://localhost:8080/",
     "height": 34
    },
    "colab_type": "code",
    "executionInfo": {
     "elapsed": 510,
     "status": "ok",
     "timestamp": 1524504345738,
     "user": {
      "displayName": "Sergei Bondarenko",
      "photoUrl": "//lh3.googleusercontent.com/-ExxVpX6rdcU/AAAAAAAAAAI/AAAAAAAABpk/1NNTdxr4JYg/s50-c-k-no/photo.jpg",
      "userId": "104649299277852833103"
     },
     "user_tz": -180
    },
    "id": "cc6B9I0qYOTM",
    "outputId": "ff766803-85f8-49c0-cf3a-4216413e24c1"
   },
   "outputs": [
    {
     "name": "stdout",
     "output_type": "stream",
     "text": [
      "0.06140283090901357\n"
     ]
    }
   ],
   "source": [
    "# Z2 on a first example for a first (and only) perceptron.\n",
    "# It's the same as Z1[0,0], only W0, A0 and b0 changed with W1, A1 and b1.\n",
    "Z2[0,0] = W1[0,0] * A1[0,0] + W1[0,1] * A1[1,0] + b1[0]\n",
    "print(Z2[0,0])"
   ]
  },
  {
   "cell_type": "code",
   "execution_count": 9,
   "metadata": {
    "colab": {
     "autoexec": {
      "startup": false,
      "wait_interval": 0
     },
     "base_uri": "https://localhost:8080/",
     "height": 34
    },
    "colab_type": "code",
    "executionInfo": {
     "elapsed": 1052,
     "status": "ok",
     "timestamp": 1524504346912,
     "user": {
      "displayName": "Sergei Bondarenko",
      "photoUrl": "//lh3.googleusercontent.com/-ExxVpX6rdcU/AAAAAAAAAAI/AAAAAAAABpk/1NNTdxr4JYg/s50-c-k-no/photo.jpg",
      "userId": "104649299277852833103"
     },
     "user_tz": -180
    },
    "id": "ciopZ1NZbYy0",
    "outputId": "d06f905d-e48f-4f77-c222-04d2495f098d"
   },
   "outputs": [
    {
     "name": "stdout",
     "output_type": "stream",
     "text": [
      "Z2 is: [[0.06140283 0.09907473 0.07373566 0.08631833]]\n"
     ]
    }
   ],
   "source": [
    "# Z2 on a second example:\n",
    "Z2[0,1] = W1[0,0] * A1[0,1] + W1[0,1] * A1[1,1] + b1[0]\n",
    "\n",
    "# Z2 on a third example:\n",
    "Z2[0,2] = W1[0,0] * A1[0,2] + W1[0,1] * A1[1,2] + b1[0]\n",
    "\n",
    "# Z2 on a forth example:\n",
    "Z2[0,3] = W1[0,0] * A1[0,3] + W1[0,1] * A1[1,3] + b1[0]\n",
    "\n",
    "print(\"Z2 is:\", Z2)"
   ]
  },
  {
   "cell_type": "code",
   "execution_count": 10,
   "metadata": {
    "colab": {
     "autoexec": {
      "startup": false,
      "wait_interval": 0
     },
     "base_uri": "https://localhost:8080/",
     "height": 34
    },
    "colab_type": "code",
    "executionInfo": {
     "elapsed": 536,
     "status": "ok",
     "timestamp": 1524504347758,
     "user": {
      "displayName": "Sergei Bondarenko",
      "photoUrl": "//lh3.googleusercontent.com/-ExxVpX6rdcU/AAAAAAAAAAI/AAAAAAAABpk/1NNTdxr4JYg/s50-c-k-no/photo.jpg",
      "userId": "104649299277852833103"
     },
     "user_tz": -180
    },
    "id": "CGJWDlFUb9ue",
    "outputId": "e7ddead2-157b-45c0-dce7-7193c8bf30b8"
   },
   "outputs": [
    {
     "name": "stdout",
     "output_type": "stream",
     "text": [
      "[[0.06140283 0.09907473 0.07373566 0.08631833]]\n"
     ]
    }
   ],
   "source": [
    "# As in previous layer it can be calculated via matrix multiplication:\n",
    "print(np.dot(W1, A1) + b1)"
   ]
  },
  {
   "cell_type": "code",
   "execution_count": 11,
   "metadata": {
    "colab": {
     "autoexec": {
      "startup": false,
      "wait_interval": 0
     },
     "base_uri": "https://localhost:8080/",
     "height": 34
    },
    "colab_type": "code",
    "executionInfo": {
     "elapsed": 492,
     "status": "ok",
     "timestamp": 1524504348518,
     "user": {
      "displayName": "Sergei Bondarenko",
      "photoUrl": "//lh3.googleusercontent.com/-ExxVpX6rdcU/AAAAAAAAAAI/AAAAAAAABpk/1NNTdxr4JYg/s50-c-k-no/photo.jpg",
      "userId": "104649299277852833103"
     },
     "user_tz": -180
    },
    "id": "ywOig6P6cHBU",
    "outputId": "85adae1c-4cf0-488e-9ec8-709b06a1c9ec"
   },
   "outputs": [
    {
     "name": "stdout",
     "output_type": "stream",
     "text": [
      "A2 is: [[0.51534589 0.52474844 0.51842557 0.52156619]]\n"
     ]
    }
   ],
   "source": [
    "# Output activation function is a sigmoid.\n",
    "A2 = sigmoid(Z2)\n",
    "print(\"A2 is:\", A2)"
   ]
  },
  {
   "cell_type": "code",
   "execution_count": 12,
   "metadata": {
    "colab": {
     "autoexec": {
      "startup": false,
      "wait_interval": 0
     },
     "base_uri": "https://localhost:8080/",
     "height": 34
    },
    "colab_type": "code",
    "executionInfo": {
     "elapsed": 526,
     "status": "ok",
     "timestamp": 1524504349322,
     "user": {
      "displayName": "Sergei Bondarenko",
      "photoUrl": "//lh3.googleusercontent.com/-ExxVpX6rdcU/AAAAAAAAAAI/AAAAAAAABpk/1NNTdxr4JYg/s50-c-k-no/photo.jpg",
      "userId": "104649299277852833103"
     },
     "user_tz": -180
    },
    "id": "B7WqZsWv2StA",
    "outputId": "dad485b0-5daf-4c92-81c2-9bf8281bd861"
   },
   "outputs": [
    {
     "name": "stdout",
     "output_type": "stream",
     "text": [
      "J=0.12519375208599626\n"
     ]
    }
   ],
   "source": [
    "# MSE cost.\n",
    "J = cost(A2, Y)\n",
    "print(f\"J={J}\")"
   ]
  },
  {
   "cell_type": "markdown",
   "metadata": {
    "colab_type": "text",
    "id": "X0yLfnLhBvbk"
   },
   "source": [
    "## Forward pass (compressed)\n",
    "---"
   ]
  },
  {
   "cell_type": "code",
   "execution_count": 13,
   "metadata": {
    "colab": {
     "autoexec": {
      "startup": false,
      "wait_interval": 0
     }
    },
    "colab_type": "code",
    "id": "o3WhTWm_Bzs6"
   },
   "outputs": [],
   "source": [
    "# Let's extract all formulas from unrolled version of a forward pass\n",
    "# and write them again:\n",
    "\n",
    "Z1 = linear(W0, A0, b0)\n",
    "A1 = tanh(Z1)\n",
    "Z2 = linear(W1, A1, b1)\n",
    "A2 = sigmoid(Z2)\n",
    "J = cost(A2, Y)"
   ]
  },
  {
   "cell_type": "markdown",
   "metadata": {
    "colab_type": "text",
    "id": "Ko1pT1Y77IM4"
   },
   "source": [
    "## Backpropogation (unrolled)\n",
    "---"
   ]
  },
  {
   "cell_type": "code",
   "execution_count": 14,
   "metadata": {
    "colab": {
     "autoexec": {
      "startup": false,
      "wait_interval": 0
     }
    },
    "colab_type": "code",
    "id": "zfAEIXdpqel-"
   },
   "outputs": [],
   "source": [
    "# Let's divide our model by each step.\n",
    "\n",
    "def from_A2(A2, Y):\n",
    "  return cost(A2, Y)\n",
    "\n",
    "def from_Z2(Z2, Y):\n",
    "  A2 = sigmoid(Z2)\n",
    "  return from_A2(A2, Y)\n",
    "\n",
    "def from_A1(W1, A1, b1, Y):\n",
    "  Z2 = linear(W1, A1, b1)\n",
    "  return from_Z2(Z2, Y)\n",
    "\n",
    "def from_Z1(Z1, W1, b1, Y):\n",
    "  A1 = tanh(Z1)\n",
    "  return from_A1(W1, A1, b1, Y)\n",
    "\n",
    "def from_A0(A0, W0, b0, W1, b1, Y):\n",
    "  Z1 = linear(W0, A0, b0)\n",
    "  return from_Z1(Z1, W1, b1, Y)"
   ]
  },
  {
   "cell_type": "code",
   "execution_count": 15,
   "metadata": {
    "colab": {
     "autoexec": {
      "startup": false,
      "wait_interval": 0
     },
     "base_uri": "https://localhost:8080/",
     "height": 34
    },
    "colab_type": "code",
    "executionInfo": {
     "elapsed": 508,
     "status": "ok",
     "timestamp": 1524504351764,
     "user": {
      "displayName": "Sergei Bondarenko",
      "photoUrl": "//lh3.googleusercontent.com/-ExxVpX6rdcU/AAAAAAAAAAI/AAAAAAAABpk/1NNTdxr4JYg/s50-c-k-no/photo.jpg",
      "userId": "104649299277852833103"
     },
     "user_tz": -180
    },
    "id": "SOpzBCtQtGjm",
    "outputId": "79358c98-ea39-4e19-b756-15d658e55ab9"
   },
   "outputs": [
    {
     "name": "stdout",
     "output_type": "stream",
     "text": [
      "J=0.12519375208599626\n"
     ]
    }
   ],
   "source": [
    "# Check that we have the same cost:\n",
    "J = from_A0(A0, W0, b0, W1, b1, Y)\n",
    "print(f\"J={J}\")"
   ]
  },
  {
   "cell_type": "code",
   "execution_count": 16,
   "metadata": {
    "colab": {
     "autoexec": {
      "startup": false,
      "wait_interval": 0
     },
     "base_uri": "https://localhost:8080/",
     "height": 34
    },
    "colab_type": "code",
    "executionInfo": {
     "elapsed": 514,
     "status": "ok",
     "timestamp": 1524504352390,
     "user": {
      "displayName": "Sergei Bondarenko",
      "photoUrl": "//lh3.googleusercontent.com/-ExxVpX6rdcU/AAAAAAAAAAI/AAAAAAAABpk/1NNTdxr4JYg/s50-c-k-no/photo.jpg",
      "userId": "104649299277852833103"
     },
     "user_tz": -180
    },
    "id": "yIq1gUk28FIm",
    "outputId": "079951ef-0f0a-4fcc-cf08-a27498020a27"
   },
   "outputs": [
    {
     "name": "stdout",
     "output_type": "stream",
     "text": [
      "[[-0.12116 -0.11881  0.12961  0.13039]]\n"
     ]
    }
   ],
   "source": [
    "# Let's calculate a partial derivative of a from_A2 function with respect to A2\n",
    "# via derivative definition. It shows how a cost J will change if we change each\n",
    "# A2 element a little bit.\n",
    "\n",
    "delta = 10**(-9)\n",
    "d = np.zeros(A2.shape)\n",
    "for index, _ in np.ndenumerate(A2):\n",
    "  A2_ = np.copy(A2)\n",
    "  A2_[index] += delta\n",
    "  d[index] = np.round((from_A2(A2_, Y) - from_A2(A2, Y)) / delta, 5)\n",
    "print(d)"
   ]
  },
  {
   "cell_type": "code",
   "execution_count": 17,
   "metadata": {
    "colab": {
     "autoexec": {
      "startup": false,
      "wait_interval": 0
     },
     "base_uri": "https://localhost:8080/",
     "height": 34
    },
    "colab_type": "code",
    "executionInfo": {
     "elapsed": 628,
     "status": "ok",
     "timestamp": 1524504353166,
     "user": {
      "displayName": "Sergei Bondarenko",
      "photoUrl": "//lh3.googleusercontent.com/-ExxVpX6rdcU/AAAAAAAAAAI/AAAAAAAABpk/1NNTdxr4JYg/s50-c-k-no/photo.jpg",
      "userId": "104649299277852833103"
     },
     "user_tz": -180
    },
    "id": "rAZtDfjuFlM8",
    "outputId": "b58941f3-bd60-442e-b56c-a3c1d02484cf"
   },
   "outputs": [
    {
     "name": "stdout",
     "output_type": "stream",
     "text": [
      "[[-0.12116 -0.11881  0.12961  0.13039]]\n"
     ]
    }
   ],
   "source": [
    "# This can be shortened to:\n",
    "dA2 = (A2 - Y) / m\n",
    "print(np.round(dA2, 5))"
   ]
  },
  {
   "cell_type": "code",
   "execution_count": 18,
   "metadata": {
    "colab": {
     "autoexec": {
      "startup": false,
      "wait_interval": 0
     },
     "base_uri": "https://localhost:8080/",
     "height": 34
    },
    "colab_type": "code",
    "executionInfo": {
     "elapsed": 524,
     "status": "ok",
     "timestamp": 1524504353798,
     "user": {
      "displayName": "Sergei Bondarenko",
      "photoUrl": "//lh3.googleusercontent.com/-ExxVpX6rdcU/AAAAAAAAAAI/AAAAAAAABpk/1NNTdxr4JYg/s50-c-k-no/photo.jpg",
      "userId": "104649299277852833103"
     },
     "user_tz": -180
    },
    "id": "Pz8l0Mb2Wmv2",
    "outputId": "2a1ac195-ce94-4667-91d2-86daf3f75329"
   },
   "outputs": [
    {
     "name": "stdout",
     "output_type": "stream",
     "text": [
      "[[-0.03026 -0.02963  0.03236  0.03254]]\n"
     ]
    }
   ],
   "source": [
    "# Derivative of a from_Z2 function with respect to Z2. It again shows how\n",
    "# cost changes if we change Z2.\n",
    "\n",
    "delta = 10**(-9)\n",
    "d = np.zeros(A2.shape)\n",
    "for index, _ in np.ndenumerate(Z2):\n",
    "  Z2_ = np.copy(Z2)\n",
    "  Z2_[index] += delta\n",
    "  d[index] = np.round((from_Z2(Z2_, Y) - from_Z2(Z2, Y)) / delta, 5)\n",
    "print(d)"
   ]
  },
  {
   "cell_type": "code",
   "execution_count": 19,
   "metadata": {
    "colab": {
     "autoexec": {
      "startup": false,
      "wait_interval": 0
     },
     "base_uri": "https://localhost:8080/",
     "height": 34
    },
    "colab_type": "code",
    "executionInfo": {
     "elapsed": 500,
     "status": "ok",
     "timestamp": 1524504354424,
     "user": {
      "displayName": "Sergei Bondarenko",
      "photoUrl": "//lh3.googleusercontent.com/-ExxVpX6rdcU/AAAAAAAAAAI/AAAAAAAABpk/1NNTdxr4JYg/s50-c-k-no/photo.jpg",
      "userId": "104649299277852833103"
     },
     "user_tz": -180
    },
    "id": "OxxDfi6pZ2Cc",
    "outputId": "eaa663b1-2c28-4e58-a5eb-6022d2f01863"
   },
   "outputs": [
    {
     "name": "stdout",
     "output_type": "stream",
     "text": [
      "[[-0.03026 -0.02963  0.03236  0.03254]]\n"
     ]
    }
   ],
   "source": [
    "# It is equal to:\n",
    "dZ2 = dA2 * sigmoid(Z2) * (1-sigmoid(Z2))\n",
    "print(np.round(dZ2, 5))"
   ]
  },
  {
   "cell_type": "code",
   "execution_count": 20,
   "metadata": {
    "colab": {
     "autoexec": {
      "startup": false,
      "wait_interval": 0
     },
     "base_uri": "https://localhost:8080/",
     "height": 34
    },
    "colab_type": "code",
    "executionInfo": {
     "elapsed": 534,
     "status": "ok",
     "timestamp": 1524504355062,
     "user": {
      "displayName": "Sergei Bondarenko",
      "photoUrl": "//lh3.googleusercontent.com/-ExxVpX6rdcU/AAAAAAAAAAI/AAAAAAAABpk/1NNTdxr4JYg/s50-c-k-no/photo.jpg",
      "userId": "104649299277852833103"
     },
     "user_tz": -180
    },
    "id": "y65vuK11xiIS",
    "outputId": "0ee09e9d-e794-4c69-d302-db1679941ef2"
   },
   "outputs": [
    {
     "name": "stdout",
     "output_type": "stream",
     "text": [
      "[[0.00036 0.00041]]\n"
     ]
    }
   ],
   "source": [
    "# Derivative of a from_A1 function with respect to W1.\n",
    "\n",
    "delta = 10**(-9)\n",
    "d = np.zeros(W1.shape)\n",
    "for index, _ in np.ndenumerate(W1):\n",
    "  W1_ = np.copy(W1)\n",
    "  W1_[index] += delta\n",
    "  d[index] = np.round((from_A1(W1_, A1, b1, Y) - from_A1(W1, A1, b1, Y)) / delta, 5)\n",
    "print(d)"
   ]
  },
  {
   "cell_type": "code",
   "execution_count": 21,
   "metadata": {
    "colab": {
     "autoexec": {
      "startup": false,
      "wait_interval": 0
     },
     "base_uri": "https://localhost:8080/",
     "height": 34
    },
    "colab_type": "code",
    "executionInfo": {
     "elapsed": 742,
     "status": "ok",
     "timestamp": 1524504355922,
     "user": {
      "displayName": "Sergei Bondarenko",
      "photoUrl": "//lh3.googleusercontent.com/-ExxVpX6rdcU/AAAAAAAAAAI/AAAAAAAABpk/1NNTdxr4JYg/s50-c-k-no/photo.jpg",
      "userId": "104649299277852833103"
     },
     "user_tz": -180
    },
    "id": "148LoZ7Dx-Q8",
    "outputId": "234edf2b-a2ea-48bc-cd48-c8fbe0df0053"
   },
   "outputs": [
    {
     "name": "stdout",
     "output_type": "stream",
     "text": [
      "[[0.00036 0.00041]]\n"
     ]
    }
   ],
   "source": [
    "# This is also can be calculated as:\n",
    "\n",
    "dW1 = np.dot(dZ2, A1.T)\n",
    "print(np.round(dW1, 5))"
   ]
  },
  {
   "cell_type": "code",
   "execution_count": 22,
   "metadata": {
    "colab": {
     "autoexec": {
      "startup": false,
      "wait_interval": 0
     },
     "base_uri": "https://localhost:8080/",
     "height": 34
    },
    "colab_type": "code",
    "executionInfo": {
     "elapsed": 808,
     "status": "ok",
     "timestamp": 1524504356880,
     "user": {
      "displayName": "Sergei Bondarenko",
      "photoUrl": "//lh3.googleusercontent.com/-ExxVpX6rdcU/AAAAAAAAAAI/AAAAAAAABpk/1NNTdxr4JYg/s50-c-k-no/photo.jpg",
      "userId": "104649299277852833103"
     },
     "user_tz": -180
    },
    "id": "XGZ1x0jnyFkq",
    "outputId": "5473ff85-6611-4695-c38a-81288d37db94"
   },
   "outputs": [
    {
     "name": "stdout",
     "output_type": "stream",
     "text": [
      "[[0.005]]\n"
     ]
    }
   ],
   "source": [
    "# Derivative of a from_A1 function with respect to b1.\n",
    "\n",
    "delta = 10**(-9)\n",
    "d = np.zeros(b1.shape)\n",
    "for index, _ in np.ndenumerate(b1):\n",
    "  b1_ = np.copy(b1)\n",
    "  b1_[index] += delta\n",
    "  d[index] = np.round((from_A1(W1, A1, b1_, Y) - from_A1(W1, A1, b1, Y)) / delta, 5)\n",
    "print(d)"
   ]
  },
  {
   "cell_type": "code",
   "execution_count": 23,
   "metadata": {
    "colab": {
     "autoexec": {
      "startup": false,
      "wait_interval": 0
     },
     "base_uri": "https://localhost:8080/",
     "height": 34
    },
    "colab_type": "code",
    "executionInfo": {
     "elapsed": 518,
     "status": "ok",
     "timestamp": 1524504357500,
     "user": {
      "displayName": "Sergei Bondarenko",
      "photoUrl": "//lh3.googleusercontent.com/-ExxVpX6rdcU/AAAAAAAAAAI/AAAAAAAABpk/1NNTdxr4JYg/s50-c-k-no/photo.jpg",
      "userId": "104649299277852833103"
     },
     "user_tz": -180
    },
    "id": "1vr4tOlW1Cy6",
    "outputId": "5ba2a9e2-dae7-427d-88b4-17fb3646bfea"
   },
   "outputs": [
    {
     "name": "stdout",
     "output_type": "stream",
     "text": [
      "[[0.005]]\n"
     ]
    }
   ],
   "source": [
    "# Analytically:\n",
    "\n",
    "db1 = np.sum(dZ2, keepdims=True)\n",
    "print(np.round(db1, 5))"
   ]
  },
  {
   "cell_type": "code",
   "execution_count": 24,
   "metadata": {
    "colab": {
     "autoexec": {
      "startup": false,
      "wait_interval": 0
     },
     "base_uri": "https://localhost:8080/",
     "height": 52
    },
    "colab_type": "code",
    "executionInfo": {
     "elapsed": 770,
     "status": "ok",
     "timestamp": 1524504358346,
     "user": {
      "displayName": "Sergei Bondarenko",
      "photoUrl": "//lh3.googleusercontent.com/-ExxVpX6rdcU/AAAAAAAAAAI/AAAAAAAABpk/1NNTdxr4JYg/s50-c-k-no/photo.jpg",
      "userId": "104649299277852833103"
     },
     "user_tz": -180
    },
    "id": "10XcJxx2cSpG",
    "outputId": "f276cdd1-23ac-4feb-99e0-1f5eb7caa1a7"
   },
   "outputs": [
    {
     "name": "stdout",
     "output_type": "stream",
     "text": [
      "[[ 0.00543  0.00531 -0.0058  -0.00584]\n",
      " [ 0.00255  0.00249 -0.00272 -0.00274]]\n"
     ]
    }
   ],
   "source": [
    "# Derivative of a from_A1 function with respect to A1.\n",
    "\n",
    "delta = 10**(-9)\n",
    "d = np.zeros(A1.shape)\n",
    "for index, _ in np.ndenumerate(A1):\n",
    "  A1_ = np.copy(A1)\n",
    "  A1_[index] += delta\n",
    "  d[index] = np.round((from_A1(W1, A1_, b1, Y) - from_A1(W1, A1, b1, Y)) / delta, 5)\n",
    "print(d)"
   ]
  },
  {
   "cell_type": "code",
   "execution_count": 25,
   "metadata": {
    "colab": {
     "autoexec": {
      "startup": false,
      "wait_interval": 0
     },
     "base_uri": "https://localhost:8080/",
     "height": 52
    },
    "colab_type": "code",
    "executionInfo": {
     "elapsed": 752,
     "status": "ok",
     "timestamp": 1524504359202,
     "user": {
      "displayName": "Sergei Bondarenko",
      "photoUrl": "//lh3.googleusercontent.com/-ExxVpX6rdcU/AAAAAAAAAAI/AAAAAAAABpk/1NNTdxr4JYg/s50-c-k-no/photo.jpg",
      "userId": "104649299277852833103"
     },
     "user_tz": -180
    },
    "id": "rpFQnKtccfX6",
    "outputId": "e4dbfef0-b2f8-4f5b-fbcb-076d62d1524e"
   },
   "outputs": [
    {
     "name": "stdout",
     "output_type": "stream",
     "text": [
      "[[ 0.00543  0.00531 -0.0058  -0.00584]\n",
      " [ 0.00255  0.00249 -0.00272 -0.00274]]\n"
     ]
    }
   ],
   "source": [
    "# Analitical form:\n",
    "\n",
    "dA1 = np.dot(W1.T, dZ2)\n",
    "print(np.round(dA1, 5))"
   ]
  },
  {
   "cell_type": "code",
   "execution_count": 26,
   "metadata": {
    "colab": {
     "autoexec": {
      "startup": false,
      "wait_interval": 0
     },
     "base_uri": "https://localhost:8080/",
     "height": 52
    },
    "colab_type": "code",
    "executionInfo": {
     "elapsed": 492,
     "status": "ok",
     "timestamp": 1524504359804,
     "user": {
      "displayName": "Sergei Bondarenko",
      "photoUrl": "//lh3.googleusercontent.com/-ExxVpX6rdcU/AAAAAAAAAAI/AAAAAAAABpk/1NNTdxr4JYg/s50-c-k-no/photo.jpg",
      "userId": "104649299277852833103"
     },
     "user_tz": -180
    },
    "id": "hmyfSClR1Sti",
    "outputId": "130b2294-f9ec-4625-dcb4-51aad0ca010d"
   },
   "outputs": [
    {
     "name": "stdout",
     "output_type": "stream",
     "text": [
      "[[ 0.00538  0.0053  -0.00575 -0.00582]\n",
      " [ 0.00238  0.00246 -0.0027  -0.00273]]\n"
     ]
    }
   ],
   "source": [
    "# Derivative of a from_Z1 function with respect to Z1.\n",
    "\n",
    "delta = 10**(-9)\n",
    "d = np.zeros(Z1.shape)\n",
    "for index, _ in np.ndenumerate(Z1):\n",
    "  Z1_ = np.copy(Z1)\n",
    "  Z1_[index] += delta\n",
    "  d[index] = np.round((from_Z1(Z1_, W1, b1, Y) - from_Z1(Z1, W1, b1, Y)) / delta, 5)\n",
    "print(d)"
   ]
  },
  {
   "cell_type": "code",
   "execution_count": 27,
   "metadata": {
    "colab": {
     "autoexec": {
      "startup": false,
      "wait_interval": 0
     },
     "base_uri": "https://localhost:8080/",
     "height": 52
    },
    "colab_type": "code",
    "executionInfo": {
     "elapsed": 534,
     "status": "ok",
     "timestamp": 1524504360492,
     "user": {
      "displayName": "Sergei Bondarenko",
      "photoUrl": "//lh3.googleusercontent.com/-ExxVpX6rdcU/AAAAAAAAAAI/AAAAAAAABpk/1NNTdxr4JYg/s50-c-k-no/photo.jpg",
      "userId": "104649299277852833103"
     },
     "user_tz": -180
    },
    "id": "LjzXmDb-19Nk",
    "outputId": "9cd9d62c-8cfc-4fd5-e9fd-7a7c16c69004"
   },
   "outputs": [
    {
     "name": "stdout",
     "output_type": "stream",
     "text": [
      "[[ 0.00538  0.0053  -0.00575 -0.00582]\n",
      " [ 0.00238  0.00246 -0.0027  -0.00273]]\n"
     ]
    }
   ],
   "source": [
    "# Analitical form:\n",
    "\n",
    "dZ1 = dA1 * (1 - tanh(A1)**2)\n",
    "print(np.round(dZ1, 5))"
   ]
  },
  {
   "cell_type": "code",
   "execution_count": 28,
   "metadata": {
    "colab": {
     "autoexec": {
      "startup": false,
      "wait_interval": 0
     },
     "base_uri": "https://localhost:8080/",
     "height": 52
    },
    "colab_type": "code",
    "executionInfo": {
     "elapsed": 518,
     "status": "ok",
     "timestamp": 1524504361166,
     "user": {
      "displayName": "Sergei Bondarenko",
      "photoUrl": "//lh3.googleusercontent.com/-ExxVpX6rdcU/AAAAAAAAAAI/AAAAAAAABpk/1NNTdxr4JYg/s50-c-k-no/photo.jpg",
      "userId": "104649299277852833103"
     },
     "user_tz": -180
    },
    "id": "Qyv2xcgBdgka",
    "outputId": "528b7d31-de11-4ed1-a7ea-4e4cd4a71bc6"
   },
   "outputs": [
    {
     "name": "stdout",
     "output_type": "stream",
     "text": [
      "[[-0.00052 -0.00044]\n",
      " [-0.00027 -0.00035]]\n"
     ]
    }
   ],
   "source": [
    "# Derivative of a from_A0 function with respect to W0.\n",
    "\n",
    "delta = 10**(-9)\n",
    "d = np.zeros(W0.shape)\n",
    "for index, _ in np.ndenumerate(W0):\n",
    "  W0_ = np.copy(W0)\n",
    "  W0_[index] += delta\n",
    "  d[index] = np.round((from_A0(A0, W0_, b0, W1, b1, Y) - from_A0(A0, W0, b0, W1, b1, Y)) / delta, 5)\n",
    "print(d)"
   ]
  },
  {
   "cell_type": "code",
   "execution_count": 29,
   "metadata": {
    "colab": {
     "autoexec": {
      "startup": false,
      "wait_interval": 0
     },
     "base_uri": "https://localhost:8080/",
     "height": 52
    },
    "colab_type": "code",
    "executionInfo": {
     "elapsed": 726,
     "status": "ok",
     "timestamp": 1524504361992,
     "user": {
      "displayName": "Sergei Bondarenko",
      "photoUrl": "//lh3.googleusercontent.com/-ExxVpX6rdcU/AAAAAAAAAAI/AAAAAAAABpk/1NNTdxr4JYg/s50-c-k-no/photo.jpg",
      "userId": "104649299277852833103"
     },
     "user_tz": -180
    },
    "id": "uu7EUHz1ehZ0",
    "outputId": "b3b574b8-c675-409a-cb31-983e2e3f2b95"
   },
   "outputs": [
    {
     "name": "stdout",
     "output_type": "stream",
     "text": [
      "[[-0.00052 -0.00044]\n",
      " [-0.00027 -0.00035]]\n"
     ]
    }
   ],
   "source": [
    "# Analitical form:\n",
    "\n",
    "dW0 = np.dot(dZ1, A0.T)\n",
    "print(np.round(dW0, 5))"
   ]
  },
  {
   "cell_type": "code",
   "execution_count": 30,
   "metadata": {
    "colab": {
     "autoexec": {
      "startup": false,
      "wait_interval": 0
     },
     "base_uri": "https://localhost:8080/",
     "height": 52
    },
    "colab_type": "code",
    "executionInfo": {
     "elapsed": 542,
     "status": "ok",
     "timestamp": 1524504362678,
     "user": {
      "displayName": "Sergei Bondarenko",
      "photoUrl": "//lh3.googleusercontent.com/-ExxVpX6rdcU/AAAAAAAAAAI/AAAAAAAABpk/1NNTdxr4JYg/s50-c-k-no/photo.jpg",
      "userId": "104649299277852833103"
     },
     "user_tz": -180
    },
    "id": "a6rKXzpteq-4",
    "outputId": "3a93c239-93ce-4a3f-b171-65f9137e073b"
   },
   "outputs": [
    {
     "name": "stdout",
     "output_type": "stream",
     "text": [
      "[[-0.00089]\n",
      " [-0.00059]]\n"
     ]
    }
   ],
   "source": [
    "# Derivative of a from_A0 function with respect to b0.\n",
    "\n",
    "delta = 10**(-9)\n",
    "d = np.zeros(b0.shape)\n",
    "for index, _ in np.ndenumerate(b0):\n",
    "  b0_ = np.copy(b0)\n",
    "  b0_[index] += delta\n",
    "  d[index] = np.round((from_A0(A0, W0, b0_, W1, b1, Y) - from_A0(A0, W0, b0, W1, b1, Y)) / delta, 5)\n",
    "print(d)"
   ]
  },
  {
   "cell_type": "code",
   "execution_count": 31,
   "metadata": {
    "colab": {
     "autoexec": {
      "startup": false,
      "wait_interval": 0
     },
     "base_uri": "https://localhost:8080/",
     "height": 52
    },
    "colab_type": "code",
    "executionInfo": {
     "elapsed": 482,
     "status": "ok",
     "timestamp": 1524504363258,
     "user": {
      "displayName": "Sergei Bondarenko",
      "photoUrl": "//lh3.googleusercontent.com/-ExxVpX6rdcU/AAAAAAAAAAI/AAAAAAAABpk/1NNTdxr4JYg/s50-c-k-no/photo.jpg",
      "userId": "104649299277852833103"
     },
     "user_tz": -180
    },
    "id": "eLHkNikXfYvy",
    "outputId": "a7fd348a-cf1b-4d13-b4a7-2f90f5b6d2ed"
   },
   "outputs": [
    {
     "name": "stdout",
     "output_type": "stream",
     "text": [
      "[[-0.00089]\n",
      " [-0.00058]]\n"
     ]
    }
   ],
   "source": [
    "# Analytically:\n",
    "\n",
    "db0 = np.sum(dZ1, axis=1, keepdims=True)\n",
    "print(np.round(db0, 5))"
   ]
  },
  {
   "cell_type": "markdown",
   "metadata": {
    "colab_type": "text",
    "id": "DbWVrP5Zfobq"
   },
   "source": [
    "## Backpropogation (compressed)\n",
    "---"
   ]
  },
  {
   "cell_type": "code",
   "execution_count": 32,
   "metadata": {
    "colab": {
     "autoexec": {
      "startup": false,
      "wait_interval": 0
     }
    },
    "colab_type": "code",
    "id": "crULfQbafsZe"
   },
   "outputs": [],
   "source": [
    "# Again, extract only the analytical formulas from a previous section:\n",
    "\n",
    "dA2 = (Y - A2) / m\n",
    "dZ2 = dA2 * sigmoid(Z2) * (1-sigmoid(Z2))\n",
    "dW1 = np.dot(dZ2, A1.T)\n",
    "db1 = np.sum(dZ2, keepdims=True)\n",
    "dA1 = np.dot(W1.T, dZ2)\n",
    "dZ1 = dA1 * (1 - tanh(A1)**2)\n",
    "dW0 = np.dot(dZ1, A0.T)\n",
    "db0 = np.sum(dZ1, axis=1, keepdims=True)"
   ]
  },
  {
   "cell_type": "markdown",
   "metadata": {
    "colab_type": "text",
    "id": "th2EwazYgpGu"
   },
   "source": [
    "## Full network and gradient descent\n",
    "---"
   ]
  },
  {
   "cell_type": "code",
   "execution_count": 33,
   "metadata": {
    "colab": {
     "autoexec": {
      "startup": false,
      "wait_interval": 0
     }
    },
    "colab_type": "code",
    "id": "FiBIT7MHgvva"
   },
   "outputs": [],
   "source": [
    "# Now we are going to implement initialization, forward and backward passes\n",
    "# into one class.\n",
    "\n",
    "class ANN:\n",
    "  '''Artificial Neural Network class.'''\n",
    "  \n",
    "  def __init__(self, n, n_h):\n",
    "    self.n = n      # Number of input features.\n",
    "    self.n_h = n_h  # Number of hidden units.\n",
    "    self.n_o = 1    # Number of output units.\n",
    "    \n",
    "    np.random.seed(2)\n",
    "    self.W0 = np.random.randn(n_h, n) * 0.1\n",
    "    self.b0 = np.full((n_h,1), 0.1)\n",
    "    \n",
    "    self.W1 = np.random.randn(self.n_o, n_h) * 0.1\n",
    "    self.b1 = np.full((self.n_o,1), 0.1)\n",
    "    \n",
    "  def forward(self, A0, Y):\n",
    "    self.Z1 = linear(self.W0, A0, self.b0)\n",
    "    self.A1 = tanh(self.Z1)\n",
    "    self.Z2 = linear(self.W1, self.A1, self.b1)\n",
    "    self.A2 = sigmoid(self.Z2)\n",
    "    self.J = cost(self.A2, Y)\n",
    "    \n",
    "  def backward(self, A0, Y):\n",
    "    dA2 = (Y - self.A2) / len(Y)\n",
    "    dZ2 = dA2 * sigmoid(self.Z2) * (1-sigmoid(self.Z2))\n",
    "    dA1 = np.dot(self.W1.T, dZ2)\n",
    "    dZ1 = dA1 * (1 - tanh(self.A1)**2)\n",
    "    \n",
    "    self.dW1 = np.dot(dZ2, self.A1.T)\n",
    "    self.db1 = np.sum(dZ2, keepdims=True)\n",
    "    self.dW0 = np.dot(dZ1, A0.T)\n",
    "    self.db0 = np.sum(dZ1, axis=1, keepdims=True)"
   ]
  },
  {
   "cell_type": "code",
   "execution_count": 34,
   "metadata": {
    "colab": {
     "autoexec": {
      "startup": false,
      "wait_interval": 0
     }
    },
    "colab_type": "code",
    "id": "RAt5mgA8nFc0"
   },
   "outputs": [],
   "source": [
    "nn = ANN(2, 2)\n",
    "A0 = np.array([[0, 1, 0, 1], [1, 0, 0, 1]])\n",
    "Y = np.array([1, 1, 0, 0])"
   ]
  },
  {
   "cell_type": "code",
   "execution_count": 35,
   "metadata": {
    "colab": {
     "autoexec": {
      "startup": false,
      "wait_interval": 0
     },
     "base_uri": "https://localhost:8080/",
     "height": 191
    },
    "colab_type": "code",
    "executionInfo": {
     "elapsed": 582,
     "status": "ok",
     "timestamp": 1524507698564,
     "user": {
      "displayName": "Sergei Bondarenko",
      "photoUrl": "//lh3.googleusercontent.com/-ExxVpX6rdcU/AAAAAAAAAAI/AAAAAAAABpk/1NNTdxr4JYg/s50-c-k-no/photo.jpg",
      "userId": "104649299277852833103"
     },
     "user_tz": -180
    },
    "id": "VDLafT2anhAA",
    "outputId": "0a969144-8de1-4c15-d0c4-e081f20f86d9"
   },
   "outputs": [
    {
     "name": "stdout",
     "output_type": "stream",
     "text": [
      "0.12519375208599626\n",
      "0.044109941906362596\n",
      "0.0015874322882328462\n",
      "0.0007888131666023057\n",
      "0.0005181010814237375\n",
      "0.00038344681417277733\n",
      "0.00030337361837437526\n",
      "0.0002504765312000076\n",
      "0.00021301226568328868\n",
      "0.00018512952151354307\n"
     ]
    }
   ],
   "source": [
    "# Create a training loop.\n",
    "\n",
    "learning_rate = 10\n",
    "\n",
    "for i in range(1000):\n",
    "  nn.forward(A0, Y)\n",
    "  if i % 100 == 0:\n",
    "    print(nn.J)\n",
    "  nn.backward(A0, Y)\n",
    "  nn.W1 += nn.dW1 * learning_rate\n",
    "  nn.b1 += nn.db1 * learning_rate\n",
    "  nn.W0 += nn.dW0 * learning_rate\n",
    "  nn.b0 += nn.db0 * learning_rate"
   ]
  },
  {
   "cell_type": "code",
   "execution_count": 36,
   "metadata": {},
   "outputs": [
    {
     "name": "stdout",
     "output_type": "stream",
     "text": [
      "A2 = [0.98  0.98  0.016 0.016]\n",
      "Y = [1 1 0 0]\n"
     ]
    }
   ],
   "source": [
    "# As you can see, predictions of the ANN are close to Y:\n",
    "print(\"A2 =\", np.round(nn.A2.squeeze(), 3))\n",
    "print(\"Y =\", Y)"
   ]
  }
 ],
 "metadata": {
  "colab": {
   "collapsed_sections": [
    "qJTJHQAh6zj6",
    "tKxkmygi6_5S",
    "X0yLfnLhBvbk",
    "Ko1pT1Y77IM4",
    "DbWVrP5Zfobq"
   ],
   "default_view": {},
   "name": "ANN_XOR.ipynb",
   "provenance": [],
   "version": "0.3.2",
   "views": {}
  },
  "kernelspec": {
   "display_name": "Python 3",
   "language": "python",
   "name": "python3"
  },
  "language_info": {
   "codemirror_mode": {
    "name": "ipython",
    "version": 3
   },
   "file_extension": ".py",
   "mimetype": "text/x-python",
   "name": "python",
   "nbconvert_exporter": "python",
   "pygments_lexer": "ipython3",
   "version": "3.6.4"
  }
 },
 "nbformat": 4,
 "nbformat_minor": 1
}
